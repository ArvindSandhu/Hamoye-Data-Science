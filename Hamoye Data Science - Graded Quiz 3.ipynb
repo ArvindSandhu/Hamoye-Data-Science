{
 "cells": [
  {
   "cell_type": "code",
   "execution_count": 1,
   "id": "acd3c183",
   "metadata": {},
   "outputs": [],
   "source": [
    "import os\n",
    "os.chdir(\"C:/Users/Sandhu/Desktop/hamoye data science\")"
   ]
  },
  {
   "cell_type": "code",
   "execution_count": 2,
   "id": "fa57a3e2",
   "metadata": {},
   "outputs": [],
   "source": [
    "# Import the necessary library\n",
    "import pandas as pd\n",
    "import numpy as np"
   ]
  },
  {
   "cell_type": "code",
   "execution_count": 3,
   "id": "2ef4cbc3",
   "metadata": {},
   "outputs": [
    {
     "data": {
      "text/html": [
       "<div>\n",
       "<style scoped>\n",
       "    .dataframe tbody tr th:only-of-type {\n",
       "        vertical-align: middle;\n",
       "    }\n",
       "\n",
       "    .dataframe tbody tr th {\n",
       "        vertical-align: top;\n",
       "    }\n",
       "\n",
       "    .dataframe thead th {\n",
       "        text-align: right;\n",
       "    }\n",
       "</style>\n",
       "<table border=\"1\" class=\"dataframe\">\n",
       "  <thead>\n",
       "    <tr style=\"text-align: right;\">\n",
       "      <th></th>\n",
       "      <th>tau1</th>\n",
       "      <th>tau2</th>\n",
       "      <th>tau3</th>\n",
       "      <th>tau4</th>\n",
       "      <th>p1</th>\n",
       "      <th>p2</th>\n",
       "      <th>p3</th>\n",
       "      <th>p4</th>\n",
       "      <th>g1</th>\n",
       "      <th>g2</th>\n",
       "      <th>g3</th>\n",
       "      <th>g4</th>\n",
       "      <th>stab</th>\n",
       "      <th>stabf</th>\n",
       "    </tr>\n",
       "  </thead>\n",
       "  <tbody>\n",
       "    <tr>\n",
       "      <th>0</th>\n",
       "      <td>2.959060</td>\n",
       "      <td>3.079885</td>\n",
       "      <td>8.381025</td>\n",
       "      <td>9.780754</td>\n",
       "      <td>3.763085</td>\n",
       "      <td>-0.782604</td>\n",
       "      <td>-1.257395</td>\n",
       "      <td>-1.723086</td>\n",
       "      <td>0.650456</td>\n",
       "      <td>0.859578</td>\n",
       "      <td>0.887445</td>\n",
       "      <td>0.958034</td>\n",
       "      <td>0.055347</td>\n",
       "      <td>unstable</td>\n",
       "    </tr>\n",
       "    <tr>\n",
       "      <th>1</th>\n",
       "      <td>9.304097</td>\n",
       "      <td>4.902524</td>\n",
       "      <td>3.047541</td>\n",
       "      <td>1.369357</td>\n",
       "      <td>5.067812</td>\n",
       "      <td>-1.940058</td>\n",
       "      <td>-1.872742</td>\n",
       "      <td>-1.255012</td>\n",
       "      <td>0.413441</td>\n",
       "      <td>0.862414</td>\n",
       "      <td>0.562139</td>\n",
       "      <td>0.781760</td>\n",
       "      <td>-0.005957</td>\n",
       "      <td>stable</td>\n",
       "    </tr>\n",
       "    <tr>\n",
       "      <th>2</th>\n",
       "      <td>8.971707</td>\n",
       "      <td>8.848428</td>\n",
       "      <td>3.046479</td>\n",
       "      <td>1.214518</td>\n",
       "      <td>3.405158</td>\n",
       "      <td>-1.207456</td>\n",
       "      <td>-1.277210</td>\n",
       "      <td>-0.920492</td>\n",
       "      <td>0.163041</td>\n",
       "      <td>0.766689</td>\n",
       "      <td>0.839444</td>\n",
       "      <td>0.109853</td>\n",
       "      <td>0.003471</td>\n",
       "      <td>unstable</td>\n",
       "    </tr>\n",
       "    <tr>\n",
       "      <th>3</th>\n",
       "      <td>0.716415</td>\n",
       "      <td>7.669600</td>\n",
       "      <td>4.486641</td>\n",
       "      <td>2.340563</td>\n",
       "      <td>3.963791</td>\n",
       "      <td>-1.027473</td>\n",
       "      <td>-1.938944</td>\n",
       "      <td>-0.997374</td>\n",
       "      <td>0.446209</td>\n",
       "      <td>0.976744</td>\n",
       "      <td>0.929381</td>\n",
       "      <td>0.362718</td>\n",
       "      <td>0.028871</td>\n",
       "      <td>unstable</td>\n",
       "    </tr>\n",
       "    <tr>\n",
       "      <th>4</th>\n",
       "      <td>3.134112</td>\n",
       "      <td>7.608772</td>\n",
       "      <td>4.943759</td>\n",
       "      <td>9.857573</td>\n",
       "      <td>3.525811</td>\n",
       "      <td>-1.125531</td>\n",
       "      <td>-1.845975</td>\n",
       "      <td>-0.554305</td>\n",
       "      <td>0.797110</td>\n",
       "      <td>0.455450</td>\n",
       "      <td>0.656947</td>\n",
       "      <td>0.820923</td>\n",
       "      <td>0.049860</td>\n",
       "      <td>unstable</td>\n",
       "    </tr>\n",
       "  </tbody>\n",
       "</table>\n",
       "</div>"
      ],
      "text/plain": [
       "       tau1      tau2      tau3      tau4        p1        p2        p3  \\\n",
       "0  2.959060  3.079885  8.381025  9.780754  3.763085 -0.782604 -1.257395   \n",
       "1  9.304097  4.902524  3.047541  1.369357  5.067812 -1.940058 -1.872742   \n",
       "2  8.971707  8.848428  3.046479  1.214518  3.405158 -1.207456 -1.277210   \n",
       "3  0.716415  7.669600  4.486641  2.340563  3.963791 -1.027473 -1.938944   \n",
       "4  3.134112  7.608772  4.943759  9.857573  3.525811 -1.125531 -1.845975   \n",
       "\n",
       "         p4        g1        g2        g3        g4      stab     stabf  \n",
       "0 -1.723086  0.650456  0.859578  0.887445  0.958034  0.055347  unstable  \n",
       "1 -1.255012  0.413441  0.862414  0.562139  0.781760 -0.005957    stable  \n",
       "2 -0.920492  0.163041  0.766689  0.839444  0.109853  0.003471  unstable  \n",
       "3 -0.997374  0.446209  0.976744  0.929381  0.362718  0.028871  unstable  \n",
       "4 -0.554305  0.797110  0.455450  0.656947  0.820923  0.049860  unstable  "
      ]
     },
     "execution_count": 3,
     "metadata": {},
     "output_type": "execute_result"
    }
   ],
   "source": [
    "# loading Our Dataset From Local Device\n",
    "df = pd.read_csv('Data_for_UCI_named.csv')\n",
    "df.head()"
   ]
  },
  {
   "cell_type": "code",
   "execution_count": 4,
   "id": "41ed5c5e",
   "metadata": {},
   "outputs": [
    {
     "name": "stdout",
     "output_type": "stream",
     "text": [
      "tau1     float64\n",
      "tau2     float64\n",
      "tau3     float64\n",
      "tau4     float64\n",
      "p1       float64\n",
      "p2       float64\n",
      "p3       float64\n",
      "p4       float64\n",
      "g1       float64\n",
      "g2       float64\n",
      "g3       float64\n",
      "g4       float64\n",
      "stab     float64\n",
      "stabf     object\n",
      "dtype: object\n"
     ]
    }
   ],
   "source": [
    "# Check for dtypes\n",
    "print(df.dtypes)"
   ]
  },
  {
   "cell_type": "code",
   "execution_count": 5,
   "id": "d9f7c62d",
   "metadata": {},
   "outputs": [
    {
     "name": "stdout",
     "output_type": "stream",
     "text": [
      "tau1     0\n",
      "tau2     0\n",
      "tau3     0\n",
      "tau4     0\n",
      "p1       0\n",
      "p2       0\n",
      "p3       0\n",
      "p4       0\n",
      "g1       0\n",
      "g2       0\n",
      "g3       0\n",
      "g4       0\n",
      "stab     0\n",
      "stabf    0\n",
      "dtype: int64\n"
     ]
    }
   ],
   "source": [
    "# Check for missing values\n",
    "print(df.isnull().sum())"
   ]
  },
  {
   "cell_type": "code",
   "execution_count": 6,
   "id": "0ae92340",
   "metadata": {},
   "outputs": [
    {
     "name": "stdout",
     "output_type": "stream",
     "text": [
      "0.9290\n"
     ]
    }
   ],
   "source": [
    "# Delete the stab column\n",
    "df = df.drop('stab', axis = 1)\n",
    "\n",
    "# Importing an encoder\n",
    "from sklearn.preprocessing import LabelEncoder\n",
    "\n",
    "# Fit the encoder and transform stabf\n",
    "label = LabelEncoder()\n",
    "df['stabf'] = label.fit(df['stabf']).transform(df['stabf'])\n",
    "\n",
    "# Importing a scaler for the data\n",
    "from sklearn.preprocessing import StandardScaler\n",
    "\n",
    "# Fit the scaler and transform the data\n",
    "scaler = StandardScaler()\n",
    "scaled_df = pd.DataFrame(scaler.fit_transform(df), columns=df.columns)\n",
    "\n",
    "# Obtain x and y\n",
    "x = scaled_df.drop('stabf', axis = 1)\n",
    "y = df['stabf']\n",
    "\n",
    "# Obtain the training (80%) and test data (20%)\n",
    "from sklearn.model_selection import train_test_split\n",
    "xtrain, xtest, ytrain, ytest = train_test_split(x , y, test_size = 0.2, random_state = 1)\n",
    "\n",
    "# Importing Random Forest Classifier, setting the random state = 1\n",
    "from sklearn.ensemble import RandomForestClassifier\n",
    "clf = RandomForestClassifier(random_state = 1)\n",
    "\n",
    "# Fit the model\n",
    "clf.fit(xtrain, ytrain)\n",
    "\n",
    "# Predict on the test data\n",
    "clf_pred = clf.predict(xtest)\n",
    "\n",
    "# Obtain the accuracy\n",
    "from sklearn.metrics import accuracy_score\n",
    "clf_acc = accuracy_score(clf_pred, ytest)\n",
    "print(format(clf_acc,\".4f\"))"
   ]
  },
  {
   "cell_type": "code",
   "execution_count": 7,
   "id": "c04cbf88",
   "metadata": {},
   "outputs": [
    {
     "name": "stderr",
     "output_type": "stream",
     "text": [
      "C:\\Users\\Sandhu\\anaconda3\\lib\\site-packages\\xgboost\\sklearn.py:1224: UserWarning: The use of label encoder in XGBClassifier is deprecated and will be removed in a future release. To remove this warning, do the following: 1) Pass option use_label_encoder=False when constructing XGBClassifier object; and 2) Encode your labels (y) as integers starting with 0, i.e. 0, 1, 2, ..., [num_class - 1].\n",
      "  warnings.warn(label_encoder_deprecation_msg, UserWarning)\n"
     ]
    },
    {
     "name": "stdout",
     "output_type": "stream",
     "text": [
      "[16:38:34] WARNING: C:/Users/Administrator/workspace/xgboost-win64_release_1.5.1/src/learner.cc:1115: Starting in XGBoost 1.3.0, the default evaluation metric used with the objective 'binary:logistic' was changed from 'error' to 'logloss'. Explicitly set eval_metric if you'd like to restore the old behavior.\n",
      "0.9455\n"
     ]
    }
   ],
   "source": [
    "# Importing XGBoost Classifier, setting the random state = 1\n",
    "import xgboost as xgb\n",
    "model = xgb.XGBClassifier(random_state = 1)\n",
    "\n",
    "# Fit the model\n",
    "model.fit(xtrain, ytrain)\n",
    "\n",
    "# Predict on the test data\n",
    "model_pred = model.predict(xtest)\n",
    "\n",
    "# Obtain the accuracy\n",
    "model_acc = accuracy_score(model_pred, ytest)\n",
    "print(model_acc)"
   ]
  },
  {
   "cell_type": "code",
   "execution_count": 8,
   "id": "499e1dab",
   "metadata": {},
   "outputs": [
    {
     "name": "stdout",
     "output_type": "stream",
     "text": [
      "0.9400\n"
     ]
    }
   ],
   "source": [
    "# Importing LGBM Classifier, setting random state = 1\n",
    "import lightgbm as gbm\n",
    "lgbm = gbm.LGBMClassifier(random_state = 1)\n",
    "\n",
    "# Fit the model\n",
    "lgbm.fit(xtrain, ytrain)\n",
    "\n",
    "# Predict on the test data\n",
    "lgbm_pred = lgbm.predict(xtest)\n",
    "\n",
    "# Obtain the accuracy\n",
    "lgbm_acc = accuracy_score(lgbm_pred, ytest)\n",
    "print(format(lgbm_acc,\".4f\"))"
   ]
  },
  {
   "cell_type": "code",
   "execution_count": 9,
   "id": "090ee291",
   "metadata": {},
   "outputs": [
    {
     "name": "stdout",
     "output_type": "stream",
     "text": [
      "Fitting 5 folds for each of 10 candidates, totalling 50 fits\n",
      "ExtraTreesClassifier(max_features=None, min_samples_leaf=8, n_estimators=1000)\n",
      "2\n"
     ]
    }
   ],
   "source": [
    "# Importing Extra Trees Classifier\n",
    "from sklearn.ensemble import ExtraTreesClassifier\n",
    "extra = ExtraTreesClassifier()\n",
    "\n",
    "# Hyper-parameters\n",
    "n_estimators = [50, 100, 300, 500, 1000]\n",
    "min_samples_split = [2, 3, 5, 7, 9]\n",
    "min_samples_leaf = [1, 2, 4, 6, 8]\n",
    "max_features = ['auto', 'sqrt', 'log2', None]\n",
    "\n",
    "# Parameter grid\n",
    "param_grid = {'n_estimators': n_estimators, 'min_samples_leaf': min_samples_leaf, 'min_samples_split': min_samples_split, 'max_features': max_features}\n",
    "\n",
    "# Importing Random Search CV\n",
    "from sklearn.model_selection import RandomizedSearchCV\n",
    "\n",
    "# Random Search for hyper-parameter optimization\n",
    "rscv = RandomizedSearchCV(extra, param_grid, cv = 5, n_iter = 10, scoring = 'accuracy', n_jobs = -1, verbose = 1, random_state = 1)\n",
    "\n",
    "# Fit the model\n",
    "rscv.fit(xtrain, ytrain)\n",
    "\n",
    "# Obtain the best estimators\n",
    "print(rscv.best_estimator_)\n",
    "print(rscv.best_estimator_.min_samples_split)"
   ]
  },
  {
   "cell_type": "code",
   "execution_count": 10,
   "id": "ee117f4c",
   "metadata": {},
   "outputs": [
    {
     "name": "stdout",
     "output_type": "stream",
     "text": [
      "0.927\n",
      "0.925\n"
     ]
    }
   ],
   "source": [
    "# Taking the new optimal model\n",
    "extclass = ExtraTreesClassifier(max_features = None, min_samples_leaf = 8, n_estimators = 1000, min_samples_split = 2, random_state = 1)\n",
    "\n",
    "# Fit the model\n",
    "extclass.fit(xtrain, ytrain)\n",
    "\n",
    "# Predict on the test data\n",
    "extclass_pred = extclass.predict(xtest)\n",
    "\n",
    "# Obtain the accuracy\n",
    "extclass_acc = accuracy_score(extclass_pred, ytest)\n",
    "print(extclass_acc)\n",
    "\n",
    "# Taking the initial Extra Trees Classifier with no hyper-parameter tuning\n",
    "# Fit the model\n",
    "extra.fit(xtrain, ytrain)\n",
    "\n",
    "# Predict on the test data\n",
    "extra_pred = extra.predict(xtest)\n",
    "\n",
    "# Obtain the accuracy\n",
    "extra_acc = accuracy_score(extra_pred, ytest)\n",
    "print(extra_acc)\n",
    "\n",
    "# extclass_pred < extra_pred\n",
    "# The accuracy of the new optimal model is lower than the initial Extra Trees Classifier model with no hyper-parameter tuning"
   ]
  },
  {
   "cell_type": "code",
   "execution_count": 11,
   "id": "4840f143",
   "metadata": {},
   "outputs": [
    {
     "data": {
      "text/plain": [
       "<bound method DataFrame.nsmallest of    Features  Feature_Importance\n",
       "0        p1            0.039921\n",
       "1        p3            0.040552\n",
       "2        p4            0.040617\n",
       "3        p2            0.041147\n",
       "4        g1            0.089521\n",
       "5        g4            0.094009\n",
       "6        g2            0.094553\n",
       "7        g3            0.095131\n",
       "8      tau3            0.113164\n",
       "9      tau1            0.115298\n",
       "10     tau4            0.116295\n",
       "11     tau2            0.119792>"
      ]
     },
     "execution_count": 11,
     "metadata": {},
     "output_type": "execute_result"
    }
   ],
   "source": [
    "# Function to obtain the important features\n",
    "def get_weights_df(model, feat, col_name):\n",
    "  weights = pd.Series(model.feature_importances_, feat.columns).sort_values()\n",
    "  weights_df = pd.DataFrame(weights).reset_index()\n",
    "  weights_df.columns = ['Features', col_name]\n",
    "  weights_df[col_name].round(3)\n",
    "  return weights_df\n",
    "\n",
    "extra.fit(xtrain, ytrain)\n",
    "\n",
    "model_weights = get_weights_df(extra, xtrain, 'Feature_Importance')\n",
    "model_weights.nsmallest"
   ]
  },
  {
   "cell_type": "markdown",
   "id": "1a2bd7d2",
   "metadata": {},
   "source": [
    "####  Most important is tau2. Least important is p1."
   ]
  }
 ],
 "metadata": {
  "kernelspec": {
   "display_name": "Python 3",
   "language": "python",
   "name": "python3"
  },
  "language_info": {
   "codemirror_mode": {
    "name": "ipython",
    "version": 3
   },
   "file_extension": ".py",
   "mimetype": "text/x-python",
   "name": "python",
   "nbconvert_exporter": "python",
   "pygments_lexer": "ipython3",
   "version": "3.8.8"
  }
 },
 "nbformat": 4,
 "nbformat_minor": 5
}
